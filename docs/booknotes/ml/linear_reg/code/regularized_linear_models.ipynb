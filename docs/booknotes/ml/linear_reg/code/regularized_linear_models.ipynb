{
 "cells": [
  {
   "attachments": {},
   "cell_type": "markdown",
   "metadata": {},
   "source": [
    "## 线性模型的正则化\n",
    "\n",
    "### 准备数据\n",
    "\n",
    "准备20组带有噪音的线性数据：$y=1+0.5x$"
   ]
  },
  {
   "cell_type": "code",
   "execution_count": 6,
   "metadata": {},
   "outputs": [
    {
     "data": {
      "image/png": "[encoded data removed]",
      "text/plain": [
       "<Figure size 640x480 with 1 Axes>"
      ]
     },
     "metadata": {},
     "output_type": "display_data"
    }
   ],
   "source": [
    "import numpy as np\n",
    "import matplotlib.pyplot as plt\n",
    "\n",
    "np.random.seed(42)\n",
    "m = 20\n",
    "X = 3 * np.random.rand(m, 1)\n",
    "y = 1 + 0.5 * X + np.random.randn(m, 1) / 1.5\n",
    "X_new = np.linspace(0, 3, 100).reshape(100, 1)\n",
    "\n",
    "plt.figure()\n",
    "plt.plot(X, y, \".\")\n",
    "plt.xlabel(\"$x_1$\")\n",
    "plt.ylabel(\"$y$  \", rotation=0)\n",
    "plt.axis([0, 3, 0, 3.5])\n",
    "plt.grid()\n",
    "plt.show()"
   ]
  },
  {
   "attachments": {},
   "cell_type": "markdown",
   "metadata": {},
   "source": [
    "### 岭回归\n",
    "\n",
    "岭回归的损失函数是：\n",
    "\n",
    "$$J(\\theta) = MSE(\\theta) + \\alpha \\frac{1}{2} \\sum_{i=1}^{n}\\theta_i^2$$\n",
    "\n",
    "对于线性回归的岭回归，我们可以使用封闭方程去计算，也可以使用梯度下降去计算。\n",
    "\n",
    "岭回归的封闭方程的解如下：\n",
    "\n",
    "$$\\hat{\\theta}=(X^T \\cdot X + \\alpha A)^{-1} \\cdot X^T \\cdot y$$\n",
    "\n",
    "下面使用`Scikit-Learn`提供的`Ridge`来进行封闭方程的岭回归求解。其中，`cholesky`表示使用`Cholesky`法进行矩阵分解对上面的公式进行变形。"
   ]
  },
  {
   "cell_type": "code",
   "execution_count": 7,
   "metadata": {},
   "outputs": [
    {
     "data": {
      "text/plain": [
       "array([[1.55325833]])"
      ]
     },
     "execution_count": 7,
     "metadata": {},
     "output_type": "execute_result"
    }
   ],
   "source": [
    "from sklearn.linear_model import Ridge\n",
    "\n",
    "ridge_reg = Ridge(alpha=0.1, solver=\"cholesky\")\n",
    "ridge_reg.fit(X, y)\n",
    "ridge_reg.predict([[1.5]])"
   ]
  },
  {
   "attachments": {},
   "cell_type": "markdown",
   "metadata": {},
   "source": [
    "同样的，我们可以用`Scikit-Learn`提供随机梯度下降算法`SGDRegressor`实现岭回归。其中，`penalty`参数指的是正则项的惩罚类型。指定`l2`表明要在损失函数上添加一项：权重向量 $ \\ell^2 $ 番薯平方的一半，即简单的岭回归。"
   ]
  },
  {
   "cell_type": "code",
   "execution_count": 8,
   "metadata": {},
   "outputs": [
    {
     "data": {
      "text/plain": [
       "array([[1.55325833]])"
      ]
     },
     "execution_count": 8,
     "metadata": {},
     "output_type": "execute_result"
    }
   ],
   "source": [
    "from sklearn.linear_model import SGDRegressor\n",
    "\n",
    "sgd_reg = SGDRegressor(penalty=\"l2\")\n",
    "sgd_reg.fit(X, y.ravel())\n",
    "ridge_reg.predict([[1.5]])"
   ]
  }
 ],
 "metadata": {
  "kernelspec": {
   "display_name": "Python 3",
   "language": "python",
   "name": "python3"
  },
  "language_info": {
   "codemirror_mode": {
    "name": "ipython",
    "version": 3
   },
   "file_extension": ".py",
   "mimetype": "text/x-python",
   "name": "python",
   "nbconvert_exporter": "python",
   "pygments_lexer": "ipython3",
   "version": "3.8.6"
  },
  "orig_nbformat": 4,
  "vscode": {
   "interpreter": {
    "hash": "e5bfa64cfa60a451920dce28b66c6fc9b8b9fcfe3cff5998c4d73e1c29e4fb71"
   }
  }
 },
 "nbformat": 4,
 "nbformat_minor": 2
}
